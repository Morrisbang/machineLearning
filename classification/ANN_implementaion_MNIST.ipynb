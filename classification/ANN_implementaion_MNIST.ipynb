{
  "nbformat": 4,
  "nbformat_minor": 0,
  "metadata": {
    "colab": {
      "name": "ANN_implementaion_MNIST.ipynb",
      "provenance": [],
      "collapsed_sections": [],
      "authorship_tag": "ABX9TyMTjyKMap1ZG5ay5WOHYrZ7",
      "include_colab_link": true
    },
    "kernelspec": {
      "name": "python3",
      "display_name": "Python 3"
    },
    "language_info": {
      "name": "python"
    }
  },
  "cells": [
    {
      "cell_type": "markdown",
      "metadata": {
        "id": "view-in-github",
        "colab_type": "text"
      },
      "source": [
        "<a href=\"https://colab.research.google.com/github/Morrisbang/machineLearning/blob/main/classification/ANN_implementaion_MNIST.ipynb\" target=\"_parent\"><img src=\"https://colab.research.google.com/assets/colab-badge.svg\" alt=\"Open In Colab\"/></a>"
      ]
    },
    {
      "cell_type": "code",
      "metadata": {
        "id": "Ohm7Skdj_Fkh"
      },
      "source": [
        "!pip install tensorflow==1.14"
      ],
      "execution_count": null,
      "outputs": []
    },
    {
      "cell_type": "code",
      "metadata": {
        "id": "0npOC4kV_xWg"
      },
      "source": [
        "import tensorflow as tf"
      ],
      "execution_count": 3,
      "outputs": []
    },
    {
      "cell_type": "markdown",
      "metadata": {
        "id": "1975t9VMBRKu"
      },
      "source": [
        "##ANN Implementation\n"
      ]
    },
    {
      "cell_type": "code",
      "metadata": {
        "id": "I0f7bWlBo4ri"
      },
      "source": [
        "#getMNIST\n",
        "from tensorflow.examples.tutorials.mnist import input_data\n",
        "mnist = input_data.read_data_sets(\"data_MNIST\", one_hot = True)"
      ],
      "execution_count": null,
      "outputs": []
    },
    {
      "cell_type": "code",
      "metadata": {
        "id": "1vW5t9NJ8Dod"
      },
      "source": [
        "#setting\n",
        "import tensorflow as tf\n",
        "import time\n",
        "\n",
        "num_steps = 5000 #num_steps ??? \n",
        "batch_size = 128\n",
        "nH1 = 256\n",
        "nH2 = 256\n",
        "nH3 = 256\n",
        "\n",
        "X = tf.placeholder(\"float\", [None, 784] )\n",
        "Y = tf.placeholder(\"float\", [None, 10])"
      ],
      "execution_count": 9,
      "outputs": []
    },
    {
      "cell_type": "code",
      "metadata": {
        "id": "lCZIdmG0sBgx"
      },
      "source": [
        "W1 = tf.Variable(tf.random_normal([784, 256]))\n",
        "b1 = tf.Variable(tf.random_normal([256]))\n",
        "L1 = tf.nn.relu(tf.matmul(X,W1)+b1)\n",
        "\n",
        "W2 = tf.Variable(tf.random_normal([256,256]))\n",
        "b2 = tf.Variable(tf.random_normal([256]))\n",
        "L2 = tf.nn.relu(tf.matmul(L1,W2)+b2)\n",
        "\n",
        "W3 = tf.Variable(tf.random_normal([256,256]))\n",
        "b3 = tf.Variable(tf.random_normal([256]))\n",
        "L3 = tf.nn.relu(tf.matmul(L2,W3)+b3)\n",
        "\n",
        "#output\n",
        "Wo = tf.Variable(tf.random_normal([256,10]))\n",
        "bo = tf.Variable(tf.random_normal([10]))\n",
        "model_LC = tf.matmul(L3,Wo) + bo  # 여기서는 relu 안함. 왜일까?\n",
        "\n"
      ],
      "execution_count": 25,
      "outputs": []
    },
    {
      "cell_type": "code",
      "metadata": {
        "id": "wUSdBmvPrfnq"
      },
      "source": [
        "#model, cost, train\n",
        "model = tf.nn.softmax(model_LC)\n",
        "cost = tf.reduce_mean(tf.nn.softmax_cross_entropy_with_logits_v2(logits=model_LC, labels=Y)) #reduce_mean ??\n",
        "train = tf.train.AdamOptimizer(0.01).minimize(cost) # train 모델에는 GradientOptimizer, AdamOptimizer가 있다."
      ],
      "execution_count": 26,
      "outputs": []
    },
    {
      "cell_type": "code",
      "metadata": {
        "id": "LlVgx9sKxtwJ"
      },
      "source": [
        "#Accuracy Computation\n",
        "accuracy = tf.reduce_mean(tf.cast(tf.equal(tf.argmax(model,1), tf.argmax(Y,1)), tf.float32))"
      ],
      "execution_count": 27,
      "outputs": []
    },
    {
      "cell_type": "code",
      "metadata": {
        "colab": {
          "base_uri": "https://localhost:8080/"
        },
        "id": "W2NLzCBMyLyk",
        "outputId": "da3e7b97-7459-4682-d627-6408e2abad3b"
      },
      "source": [
        "#Session\n",
        "\n",
        "with tf.Session() as sess:\n",
        "  sess.run(tf.global_variables_initializer())  #tf.global_variables_initializer ?? \n",
        "  #Train\n",
        "  t1 = time.time()\n",
        "  for step in range(1, num_steps+1): # num_steps+1 ?? \n",
        "    train_images, train_labels = mnist.train.next_batch(batch_size)\n",
        "    sess.run(train, feed_dict = {X : train_images, Y : train_labels}) # =이 아니라 : \n",
        "    if step % 500 == 0: \n",
        "      print(step)\n",
        "  t2 = time.time()\n",
        "  print(\"Training time : \", t2 - t1)\n",
        "  print(\"Testing Accuracy : \", sess.run(accuracy, feed_dict={X : train_images, Y : train_labels}))"
      ],
      "execution_count": 28,
      "outputs": [
        {
          "output_type": "stream",
          "text": [
            "500\n",
            "1000\n",
            "1500\n",
            "2000\n",
            "2500\n",
            "3000\n",
            "3500\n",
            "4000\n",
            "4500\n",
            "5000\n",
            "Training time :  35.281718015670776\n",
            "Testing Accuracy :  0.9921875\n"
          ],
          "name": "stdout"
        }
      ]
    }
  ]
}