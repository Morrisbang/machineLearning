{
  "nbformat": 4,
  "nbformat_minor": 0,
  "metadata": {
    "colab": {
      "name": "XOR_problem.ipynb",
      "provenance": [],
      "collapsed_sections": [],
      "authorship_tag": "ABX9TyPEEGZ7G1glAdORMYAtROKw",
      "include_colab_link": true
    },
    "kernelspec": {
      "name": "python3",
      "display_name": "Python 3"
    },
    "language_info": {
      "name": "python"
    }
  },
  "cells": [
    {
      "cell_type": "markdown",
      "metadata": {
        "id": "view-in-github",
        "colab_type": "text"
      },
      "source": [
        "<a href=\"https://colab.research.google.com/github/Morrisbang/machineLearning/blob/main/XOR_problem.ipynb\" target=\"_parent\"><img src=\"https://colab.research.google.com/assets/colab-badge.svg\" alt=\"Open In Colab\"/></a>"
      ]
    },
    {
      "cell_type": "code",
      "metadata": {
        "id": "Ohm7Skdj_Fkh"
      },
      "source": [
        "!pip install tensorflow==1.14"
      ],
      "execution_count": null,
      "outputs": []
    },
    {
      "cell_type": "code",
      "metadata": {
        "id": "0npOC4kV_xWg"
      },
      "source": [
        "import tensorflow as tf"
      ],
      "execution_count": null,
      "outputs": []
    },
    {
      "cell_type": "markdown",
      "metadata": {
        "id": "1975t9VMBRKu"
      },
      "source": [
        "##XOR (with Binary Classification)"
      ]
    },
    {
      "cell_type": "code",
      "metadata": {
        "id": "0CWiyvxE_Nl6"
      },
      "source": [
        "x_data = [[1,1], [2,2], [3,3]]\n",
        "y_data = [[10], [20], [30]]\n",
        "X = tf.placeholder(dtype = tf.float32, shape=[None, 2])\n",
        "Y = tf.placeholder(dtype = tf.float32, shape=[None, 1])\n",
        "W = tf.Variable(tf.random_normal([2, 1]))\n",
        "b = tf.Variable(tf.random_normal([1]))\n",
        "\n",
        "model = tf.matmul(X, W) + b\n",
        "cost = tf.reduce_mean(tf.square(model - Y))\n",
        "train = tf.train.GradientDescentOptimizer(0.01).minimize(cost)"
      ],
      "execution_count": 6,
      "outputs": []
    },
    {
      "cell_type": "code",
      "metadata": {
        "id": "YStaj_MOA2xA"
      },
      "source": [
        "with tf.Session() as sess :\n",
        "  sess.run(tf.global_variables_initializer())\n",
        "  # Training \n",
        "  for step in range(2001):\n",
        "    c, W_, b_, _ = sess.run([cost, W, b, train], feed_dict={X:x_data, Y:y_data})\n",
        "    print(step, c, W_, b_)\n",
        "  #Testing\n",
        "  print(sess.run(model, feed_dict={X:[[4,4]]}))"
      ],
      "execution_count": null,
      "outputs": []
    },
    {
      "cell_type": "code",
      "metadata": {
        "id": "-qisBoDI-mnO"
      },
      "source": [
        "x_data = [[0,0], [0,1], [1,0], [1,1]]\n",
        "y_data = [[0], [1], [1], [0]]\n",
        "\n",
        "X = tf.placeholder(tf.float32, shape = [None, 2] )\n",
        "Y = tf.placeholder(tf.float32, shape = [None, 1] )\n",
        "W = tf.Variable(tf.random_normal([2,1]))\n",
        "b = tf.Variable(tf.random_normal([1]))\n",
        "\n",
        "model = tf.sigmoid(tf.matmul(X, W)+b)\n",
        "cost = tf.reduce_mean((-1)*Y*tf.log(model) + (-1)*(1-Y)*tf.log(1-model))\n",
        "train = tf.train.GradientDescentOptimizer(0.1).minimize(cost)"
      ],
      "execution_count": 8,
      "outputs": []
    },
    {
      "cell_type": "code",
      "metadata": {
        "colab": {
          "base_uri": "https://localhost:8080/"
        },
        "id": "qHMj4q5o-1D3",
        "outputId": "55c050ad-8e8f-41a5-ef21-a4c40eebb5da"
      },
      "source": [
        "prediction = tf.cast(model > 0.5, dtype = tf.float32)\n",
        "accuracy = tf.reduce_mean(tf.cast(tf.equal(prediction, Y), dtype = tf.float32))\n",
        "\n",
        "with tf.Session() as sess:\n",
        "  sess.run(tf.global_variables_initializer())\n",
        "  #Training\n",
        "  for step in range(20001):\n",
        "    c, _ = sess.run([cost, train], feed_dict={X: x_data, Y: y_data})\n",
        "    if step % 2000 ==0:\n",
        "      print(step, c)\n",
        "  #Testing\n",
        "  m, p, a = sess.run([model, prediction, accuracy], feed_dict = {X: x_data, Y: y_data})\n",
        "  print(m, p, a) "
      ],
      "execution_count": 9,
      "outputs": [
        {
          "output_type": "stream",
          "text": [
            "0 0.73318195\n",
            "2000 0.6931472\n",
            "4000 0.6931472\n",
            "6000 0.6931472\n",
            "8000 0.6931472\n",
            "10000 0.6931472\n",
            "12000 0.6931472\n",
            "14000 0.6931472\n",
            "16000 0.6931472\n",
            "18000 0.6931472\n",
            "20000 0.6931472\n",
            "[[0.5]\n",
            " [0.5]\n",
            " [0.5]\n",
            " [0.5]] [[0.]\n",
            " [0.]\n",
            " [0.]\n",
            " [0.]] 0.5\n"
          ],
          "name": "stdout"
        }
      ]
    },
    {
      "cell_type": "markdown",
      "metadata": {
        "id": "ExC4qZlkBJiP"
      },
      "source": [
        "##Basic ANN "
      ]
    },
    {
      "cell_type": "code",
      "metadata": {
        "id": "1vW5t9NJ8Dod"
      },
      "source": [
        "x_data = [[0,0], [0,1], [1,0], [1,1]]\n",
        "y_data = [[0], [1], [1], [0]]\n",
        "\n",
        "X = tf.placeholder(tf.float32, shape = [None, 2] )\n",
        "Y = tf.placeholder(tf.float32, shape = [None, 1] )\n",
        "W_h = tf.Variable(tf.random_normal([2,3]))\n",
        "b_h = tf.Variable(tf.random_normal([3]))\n",
        "H1 = tf.sigmoid(tf.matmul(X,W_h)+b_h)\n",
        "\n",
        "W_o = tf.Variable(tf.random_normal([3,1]))\n",
        "b_o = tf.Variable(tf.random_normal([1]))\n",
        "#H2 = tf.sigmoid(tf.matmul(H1,W_o)+b_o)\n",
        "\n",
        "model = tf.sigmoid(tf.matmul(H1, W_o)+b_o)\n",
        "cost = tf.reduce_mean((-1)*Y*tf.log(model) + (-1)*(1-Y)*tf.log(1-model))\n",
        "train = tf.train.GradientDescentOptimizer(0.1).minimize(cost)"
      ],
      "execution_count": 19,
      "outputs": []
    },
    {
      "cell_type": "code",
      "metadata": {
        "colab": {
          "base_uri": "https://localhost:8080/"
        },
        "id": "J2ISwnom8V0p",
        "outputId": "ced801dd-2855-48da-a692-da049e752fd5"
      },
      "source": [
        "prediction = tf.cast(model > 0.5, dtype = tf.float32)\n",
        "accuracy = tf.reduce_mean(tf.cast(tf.equal(prediction, Y), dtype = tf.float32))\n",
        "\n",
        "with tf.Session() as sess:\n",
        "  sess.run(tf.global_variables_initializer())\n",
        "  #Training\n",
        "  for step in range(20001):\n",
        "    c, _ = sess.run([cost, train], feed_dict={X: x_data, Y: y_data})\n",
        "    if step % 2000 ==0:\n",
        "      print(step, c)\n",
        "  #Testing\n",
        "  m, p, a = sess.run([model, prediction, accuracy], feed_dict = {X: x_data, Y: y_data})\n",
        "  print(m, p, a) "
      ],
      "execution_count": 5,
      "outputs": [
        {
          "output_type": "stream",
          "text": [
            "0 1.2786146\n",
            "2000 0.34051797\n",
            "4000 0.05102875\n",
            "6000 0.02440926\n",
            "8000 0.01581477\n",
            "10000 0.011642625\n",
            "12000 0.009193049\n",
            "14000 0.007586383\n",
            "16000 0.0064533586\n",
            "18000 0.005612212\n",
            "20000 0.0049635326\n",
            "[[0.00781787]\n",
            " [0.9951626 ]\n",
            " [0.99449486]\n",
            " [0.00163356]] [[0.]\n",
            " [1.]\n",
            " [1.]\n",
            " [0.]] 1.0\n"
          ],
          "name": "stdout"
        }
      ]
    },
    {
      "cell_type": "markdown",
      "metadata": {
        "id": "80aLotBoBe9j"
      },
      "source": [
        "##Wide with ANN "
      ]
    },
    {
      "cell_type": "code",
      "metadata": {
        "id": "TWqZq8UEBZg2"
      },
      "source": [
        "x_data = [[0,0], [0,1], [1,0], [1,1]]\n",
        "y_data = [[0], [1], [1], [0]]\n",
        "\n",
        "X = tf.placeholder(tf.float32, shape = [None, 2] )\n",
        "Y = tf.placeholder(tf.float32, shape = [None, 1] )\n",
        "W_h = tf.Variable(tf.random_normal([2,10]))\n",
        "b_h = tf.Variable(tf.random_normal([10]))\n",
        "H1 = tf.sigmoid(tf.matmul(X,W_h)+b_h)\n",
        "\n",
        "W_o = tf.Variable(tf.random_normal([10,1]))\n",
        "b_o = tf.Variable(tf.random_normal([1]))\n",
        "\n",
        "model = tf.sigmoid(tf.matmul(H1, W_o)+b_o)\n",
        "cost = tf.reduce_mean((-1)*Y*tf.log(model) + (-1)*(1-Y)*tf.log(1-model))\n",
        "train = tf.train.GradientDescentOptimizer(0.1).minimize(cost)"
      ],
      "execution_count": 22,
      "outputs": []
    },
    {
      "cell_type": "code",
      "metadata": {
        "colab": {
          "base_uri": "https://localhost:8080/"
        },
        "id": "n58yBIIABjuQ",
        "outputId": "90db9ff1-859e-4ce2-e624-81e2e514d929"
      },
      "source": [
        "prediction = tf.cast(model > 0.5, dtype = tf.float32)\n",
        "accuracy = tf.reduce_mean(tf.cast(tf.equal(prediction, Y), dtype = tf.float32))\n",
        "\n",
        "with tf.Session() as sess:\n",
        "  sess.run(tf.global_variables_initializer())\n",
        "  #Training\n",
        "  for step in range(20001):\n",
        "    c, _ = sess.run([cost, train], feed_dict={X: x_data, Y: y_data})\n",
        "    if step % 2000 ==0:\n",
        "      print(step, c)\n",
        "  #Testing\n",
        "  m, p, a = sess.run([model, prediction, accuracy], feed_dict = {X: x_data, Y: y_data})\n",
        "  print(m, p, a) "
      ],
      "execution_count": 23,
      "outputs": [
        {
          "output_type": "stream",
          "text": [
            "0 0.69033307\n",
            "2000 0.2418887\n",
            "4000 0.044848166\n",
            "6000 0.01917346\n",
            "8000 0.01143816\n",
            "10000 0.007942054\n",
            "12000 0.0060020983\n",
            "14000 0.0047856197\n",
            "16000 0.0039585964\n",
            "18000 0.0033631725\n",
            "20000 0.0029157791\n",
            "[[0.00209894]\n",
            " [0.9973918 ]\n",
            " [0.9964688 ]\n",
            " [0.00340632]] [[0.]\n",
            " [1.]\n",
            " [1.]\n",
            " [0.]] 1.0\n"
          ],
          "name": "stdout"
        }
      ]
    },
    {
      "cell_type": "markdown",
      "metadata": {
        "id": "Z3Wv4eQzBDl_"
      },
      "source": [
        "##Deep with ANN"
      ]
    },
    {
      "cell_type": "code",
      "metadata": {
        "id": "tu6k_R8o_8oG"
      },
      "source": [
        "x_data = [[0,0], [0,1], [1,0], [1,1]]\n",
        "y_data = [[0], [1], [1], [0]]\n",
        "\n",
        "X = tf.placeholder(tf.float32, shape = [None, 2] )\n",
        "Y = tf.placeholder(tf.float32, shape = [None, 1] )\n",
        "W1 = tf.Variable(tf.random_normal([2,10]))\n",
        "b1 = tf.Variable(tf.random_normal([10]))\n",
        "H1 = tf.sigmoid(tf.matmul(X,W1)+b1)\n",
        "\n",
        "W2 = tf.Variable(tf.random_normal([10,5]))\n",
        "b2 = tf.Variable(tf.random_normal([5]))\n",
        "H2 = tf.sigmoid(tf.matmul(H1,W2)+b2)\n",
        "\n",
        "W3 = tf.Variable(tf.random_normal([5,8]))\n",
        "b3 = tf.Variable(tf.random_normal([8]))\n",
        "H3 = tf.sigmoid(tf.matmul(H2,W3)+b3)\n",
        "\n",
        "W4 = tf.Variable(tf.random_normal([8,1]))\n",
        "b4 = tf.Variable(tf.random_normal([1]))\n",
        "\n",
        "model = tf.sigmoid(tf.matmul(H3,W4)+b4)\n",
        "cost = tf.reduce_mean((-1)*Y*tf.log(model) + (-1)*(1-Y)*tf.log(1-model))\n",
        "train = tf.train.GradientDescentOptimizer(0.1).minimize(cost)"
      ],
      "execution_count": 14,
      "outputs": []
    },
    {
      "cell_type": "code",
      "metadata": {
        "colab": {
          "base_uri": "https://localhost:8080/"
        },
        "id": "Qp2NJ0lsAT1D",
        "outputId": "2e12c0e2-c817-43a0-d3f4-8cf6df8fd8a0"
      },
      "source": [
        "prediction = tf.cast(model > 0.5, dtype = tf.float32)\n",
        "accuracy = tf.reduce_mean(tf.cast(tf.equal(prediction, Y), dtype = tf.float32))\n",
        "\n",
        "with tf.Session() as sess:\n",
        "  sess.run(tf.global_variables_initializer())\n",
        "  #Training\n",
        "  for step in range(20001):\n",
        "    c, _ = sess.run([cost, train], feed_dict={X: x_data, Y: y_data})\n",
        "    if step % 2000 ==0:\n",
        "      print(step, c)\n",
        "  #Testing\n",
        "  m, p, a = sess.run([model, prediction, accuracy], feed_dict = {X: x_data, Y: y_data})\n",
        "  print(m, p, a) "
      ],
      "execution_count": 15,
      "outputs": [
        {
          "output_type": "stream",
          "text": [
            "0 1.3610933\n",
            "2000 0.48198557\n",
            "4000 0.014179385\n",
            "6000 0.0056584966\n",
            "8000 0.0034192605\n",
            "10000 0.0024159069\n",
            "12000 0.0018531121\n",
            "14000 0.001495146\n",
            "16000 0.0012484551\n",
            "18000 0.0010685704\n",
            "20000 0.0009319305\n",
            "[[9.3774963e-04]\n",
            " [9.9935013e-01]\n",
            " [9.9873012e-01]\n",
            " [8.6813484e-04]] [[0.]\n",
            " [1.]\n",
            " [1.]\n",
            " [0.]] 1.0\n"
          ],
          "name": "stdout"
        }
      ]
    },
    {
      "cell_type": "code",
      "metadata": {
        "id": "Mn3FcT5xAV7E"
      },
      "source": [
        "x_data = [[0,0], [0,1], [1,0], [1,1]]\n",
        "y_data = [[0], [1], [1], [0]]\n",
        "\n",
        "X = tf.placeholder(tf.float32, shape = [None, 2] )\n",
        "Y = tf.placeholder(tf.float32, shape = [None, 1] )\n",
        "W1 = tf.Variable(tf.random_normal([2,10]))\n",
        "b1 = tf.Variable(tf.random_normal([10]))\n",
        "H1 = tf.sigmoid(tf.matmul(X,W1)+b1)\n",
        "\n",
        "W2 = tf.Variable(tf.random_normal([10,5]))\n",
        "b2 = tf.Variable(tf.random_normal([5]))\n",
        "H2 = tf.sigmoid(tf.matmul(H1,W2)+b2)\n",
        "\n",
        "W3 = tf.Variable(tf.random_normal([5,8]))\n",
        "b3 = tf.Variable(tf.random_normal([8]))\n",
        "H3 = tf.sigmoid(tf.matmul(H2,W3)+b3)\n",
        "\n",
        "W4 = tf.Variable(tf.random_normal([8,1]))\n",
        "b4 = tf.Variable(tf.random_normal([1]))\n",
        "\n",
        "model = tf.sigmoid(tf.matmul(H3,W4)+b4)\n",
        "cost = tf.reduce_mean((-1)*Y*tf.log(model) + (-1)*(1-Y)*tf.log(1-model))\n",
        "train = tf.train.GradientDescentOptimizer(0.1).minimize(cost)"
      ],
      "execution_count": null,
      "outputs": []
    }
  ]
}